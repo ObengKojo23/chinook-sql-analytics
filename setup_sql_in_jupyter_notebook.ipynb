{
 "cells": [
  {
   "cell_type": "markdown",
   "id": "cf4a9ee4",
   "metadata": {},
   "source": [
    "## **Setting up SQL Environment in Jupyter Notebook**\n",
    "\n",
    "This notebook demonstrates how to:\n",
    "- Install and load SQL tooling in Jupyter\n",
    "- Connect to a SQLite database file using `ipython-sql`\n",
    "\n",
    "---\n",
    "\n",
    "### 1. Download the Chinook SQLite database file\n",
    "[Click here](https://www.sqlitetutorial.net/sqlite-sample-database/) to download the sample chinook.db file from the SQLite official site or visit my [GitHub Repo](https://github.com/ObengKojo23/sql-in-jupyter-notebook) to the download.\n",
    "\n",
    "---\n",
    "\n",
    "### 2. Install required Python modules (one-off)\n",
    "You need to install 3 python modules.\n",
    "Note that these are installed **locally** and typically only once.  \n",
    "\n",
    "\n",
    "### What each module is for\n",
    "\n",
    "- **SQLAlchemy** — Python’s universal database toolkit. It handles database connections (“engines”) for many backends.  \n",
    "  \n",
    "- **ipython-sql** — An IPython/Jupyter extension adding `%sql`/`%%sql` magics so you can run SQL right inside notebook cells and display results as pretty tables or DataFrames.\n",
    "\n",
    "- **PyMySQL (optional)** — A pure-Python MySQL/MariaDB driver. Usually for connecting to MySQL.  \n",
    "  For **SQLite**, you may **not** need a separate driver since Python ships with `sqlite3`.\n",
    "\n",
    "---\n",
    "\n",
    " Remember to use `%pip` instead of plain `pip` in notebooks when installing the modules?\n",
    "\n",
    "- `%pip` installs into the **active kernel’s** environment, avoiding “installed but not found” issues.\n",
    "- If `%pip` isn’t available, `!pip install ...` also works (shell command), but `%pip` is safer in notebooks."
   ]
  },
  {
   "cell_type": "markdown",
   "id": "64641dcd",
   "metadata": {},
   "source": [
    "Installing the Modules"
   ]
  },
  {
   "cell_type": "code",
   "execution_count": null,
   "id": "f1e8a914",
   "metadata": {},
   "outputs": [],
   "source": [
    "%pip install sqlalchemy"
   ]
  },
  {
   "cell_type": "code",
   "execution_count": null,
   "id": "09ae6074",
   "metadata": {
    "scrolled": true
   },
   "outputs": [],
   "source": [
    "%pip install ipython-sql"
   ]
  },
  {
   "cell_type": "code",
   "execution_count": null,
   "id": "d483cca6",
   "metadata": {},
   "outputs": [],
   "source": [
    "%pip install pymysql"
   ]
  },
  {
   "cell_type": "markdown",
   "id": "22cec51c",
   "metadata": {},
   "source": [
    "### 3. Load the SQL extension and connect to SQLite\n",
    "\n",
    "- #### Load the SQL magic command/extension\n",
    "    Run this once per notebook session.\n",
    "    This enables you to run SQL queries directly in your notebook using the `%sql` and `%%sql` magic commands."
   ]
  },
  {
   "cell_type": "code",
   "execution_count": 5,
   "id": "2bcdd49a",
   "metadata": {},
   "outputs": [],
   "source": [
    "# Load the ipython-sql extension to enable %sql/%%sql magic commands in this notebook\n",
    "%load_ext sql"
   ]
  },
  {
   "cell_type": "markdown",
   "id": "7ede3ec8",
   "metadata": {},
   "source": [
    "- #### Connect to the database in the current folder: "
   ]
  },
  {
   "cell_type": "code",
   "execution_count": 6,
   "id": "b8ac25e4",
   "metadata": {},
   "outputs": [],
   "source": [
    "# Connect to the SQLite database file named chinook.db in the current folder\n",
    "%sql sqlite:///chinook.db"
   ]
  },
  {
   "cell_type": "markdown",
   "id": "9f063b87",
   "metadata": {},
   "source": [
    "- #### Running `SQL` queries\n",
    "\n",
    "    With the sample database loaded, we can interact with it by using the `%%sql` cell magic in any cell where we want to run SQL queries.\n",
    "\n",
    "Let’s run a few queries against the Chinook database."
   ]
  },
  {
   "cell_type": "markdown",
   "id": "3841c39b",
   "metadata": {},
   "source": [
    "1. This query lists all user-created tables and views from `sqlite_master`, excluding internal `sqlite_%` objects, and orders the results alphabetically by `name`"
   ]
  },
  {
   "cell_type": "code",
   "execution_count": 7,
   "id": "073405d3",
   "metadata": {},
   "outputs": [
    {
     "name": "stdout",
     "output_type": "stream",
     "text": [
      " * sqlite:///chinook.db\n",
      "Done.\n"
     ]
    },
    {
     "data": {
      "text/html": [
       "<table>\n",
       "    <tr>\n",
       "        <th>name</th>\n",
       "    </tr>\n",
       "    <tr>\n",
       "        <td>albums</td>\n",
       "    </tr>\n",
       "    <tr>\n",
       "        <td>artists</td>\n",
       "    </tr>\n",
       "    <tr>\n",
       "        <td>customers</td>\n",
       "    </tr>\n",
       "    <tr>\n",
       "        <td>employees</td>\n",
       "    </tr>\n",
       "    <tr>\n",
       "        <td>genres</td>\n",
       "    </tr>\n",
       "    <tr>\n",
       "        <td>invoice_items</td>\n",
       "    </tr>\n",
       "    <tr>\n",
       "        <td>invoices</td>\n",
       "    </tr>\n",
       "    <tr>\n",
       "        <td>media_types</td>\n",
       "    </tr>\n",
       "    <tr>\n",
       "        <td>playlist_track</td>\n",
       "    </tr>\n",
       "    <tr>\n",
       "        <td>playlists</td>\n",
       "    </tr>\n",
       "    <tr>\n",
       "        <td>tracks</td>\n",
       "    </tr>\n",
       "</table>"
      ],
      "text/plain": [
       "[('albums',),\n",
       " ('artists',),\n",
       " ('customers',),\n",
       " ('employees',),\n",
       " ('genres',),\n",
       " ('invoice_items',),\n",
       " ('invoices',),\n",
       " ('media_types',),\n",
       " ('playlist_track',),\n",
       " ('playlists',),\n",
       " ('tracks',)]"
      ]
     },
     "execution_count": 7,
     "metadata": {},
     "output_type": "execute_result"
    }
   ],
   "source": [
    "%%sql\n",
    "\n",
    "-- List all user-defined tables (excluding SQLite system tables)\n",
    "SELECT name\n",
    "FROM sqlite_master\n",
    "WHERE type IN ('table','view') AND name NOT LIKE 'sqlite_%'\n",
    "ORDER BY name;\n"
   ]
  },
  {
   "cell_type": "markdown",
   "id": "bb37b7f3",
   "metadata": {},
   "source": [
    "2. This command returns the column schema (name, type, nullability, default, primary-key flag) for a table."
   ]
  },
  {
   "cell_type": "code",
   "execution_count": 8,
   "id": "c1c29e3f",
   "metadata": {},
   "outputs": [
    {
     "name": "stdout",
     "output_type": "stream",
     "text": [
      " * sqlite:///chinook.db\n",
      "Done.\n"
     ]
    },
    {
     "data": {
      "text/html": [
       "<table>\n",
       "    <tr>\n",
       "        <th>cid</th>\n",
       "        <th>name</th>\n",
       "        <th>type</th>\n",
       "        <th>notnull</th>\n",
       "        <th>dflt_value</th>\n",
       "        <th>pk</th>\n",
       "    </tr>\n",
       "    <tr>\n",
       "        <td>0</td>\n",
       "        <td>AlbumId</td>\n",
       "        <td>INTEGER</td>\n",
       "        <td>1</td>\n",
       "        <td>None</td>\n",
       "        <td>1</td>\n",
       "    </tr>\n",
       "    <tr>\n",
       "        <td>1</td>\n",
       "        <td>Title</td>\n",
       "        <td>NVARCHAR(160)</td>\n",
       "        <td>1</td>\n",
       "        <td>None</td>\n",
       "        <td>0</td>\n",
       "    </tr>\n",
       "    <tr>\n",
       "        <td>2</td>\n",
       "        <td>ArtistId</td>\n",
       "        <td>INTEGER</td>\n",
       "        <td>1</td>\n",
       "        <td>None</td>\n",
       "        <td>0</td>\n",
       "    </tr>\n",
       "</table>"
      ],
      "text/plain": [
       "[(0, 'AlbumId', 'INTEGER', 1, None, 1),\n",
       " (1, 'Title', 'NVARCHAR(160)', 1, None, 0),\n",
       " (2, 'ArtistId', 'INTEGER', 1, None, 0)]"
      ]
     },
     "execution_count": 8,
     "metadata": {},
     "output_type": "execute_result"
    }
   ],
   "source": [
    "%%sql\n",
    "-- Getting the schema of the 'albums' table to understand its structure\n",
    "PRAGMA table_info('albums');"
   ]
  },
  {
   "cell_type": "markdown",
   "id": "59959c5a",
   "metadata": {},
   "source": [
    "3. This returns the first 10 rows from the albums table, displaying all columns."
   ]
  },
  {
   "cell_type": "code",
   "execution_count": 9,
   "id": "d0fa14ea",
   "metadata": {},
   "outputs": [
    {
     "name": "stdout",
     "output_type": "stream",
     "text": [
      " * sqlite:///chinook.db\n",
      "Done.\n"
     ]
    },
    {
     "data": {
      "text/html": [
       "<table>\n",
       "    <tr>\n",
       "        <th>AlbumId</th>\n",
       "        <th>Title</th>\n",
       "        <th>ArtistId</th>\n",
       "    </tr>\n",
       "    <tr>\n",
       "        <td>1</td>\n",
       "        <td>For Those About To Rock We Salute You</td>\n",
       "        <td>1</td>\n",
       "    </tr>\n",
       "    <tr>\n",
       "        <td>2</td>\n",
       "        <td>Balls to the Wall</td>\n",
       "        <td>2</td>\n",
       "    </tr>\n",
       "    <tr>\n",
       "        <td>3</td>\n",
       "        <td>Restless and Wild</td>\n",
       "        <td>2</td>\n",
       "    </tr>\n",
       "    <tr>\n",
       "        <td>4</td>\n",
       "        <td>Let There Be Rock</td>\n",
       "        <td>1</td>\n",
       "    </tr>\n",
       "    <tr>\n",
       "        <td>5</td>\n",
       "        <td>Big Ones</td>\n",
       "        <td>3</td>\n",
       "    </tr>\n",
       "    <tr>\n",
       "        <td>6</td>\n",
       "        <td>Jagged Little Pill</td>\n",
       "        <td>4</td>\n",
       "    </tr>\n",
       "    <tr>\n",
       "        <td>7</td>\n",
       "        <td>Facelift</td>\n",
       "        <td>5</td>\n",
       "    </tr>\n",
       "    <tr>\n",
       "        <td>8</td>\n",
       "        <td>Warner 25 Anos</td>\n",
       "        <td>6</td>\n",
       "    </tr>\n",
       "    <tr>\n",
       "        <td>9</td>\n",
       "        <td>Plays Metallica By Four Cellos</td>\n",
       "        <td>7</td>\n",
       "    </tr>\n",
       "    <tr>\n",
       "        <td>10</td>\n",
       "        <td>Audioslave</td>\n",
       "        <td>8</td>\n",
       "    </tr>\n",
       "</table>"
      ],
      "text/plain": [
       "[(1, 'For Those About To Rock We Salute You', 1),\n",
       " (2, 'Balls to the Wall', 2),\n",
       " (3, 'Restless and Wild', 2),\n",
       " (4, 'Let There Be Rock', 1),\n",
       " (5, 'Big Ones', 3),\n",
       " (6, 'Jagged Little Pill', 4),\n",
       " (7, 'Facelift', 5),\n",
       " (8, 'Warner 25 Anos', 6),\n",
       " (9, 'Plays Metallica By Four Cellos', 7),\n",
       " (10, 'Audioslave', 8)]"
      ]
     },
     "execution_count": 9,
     "metadata": {},
     "output_type": "execute_result"
    }
   ],
   "source": [
    "%%sql\n",
    "-- List all columns in the 'Album' table\n",
    "SELECT *\n",
    "FROM albums\n",
    "LIMIT 10;"
   ]
  }
 ],
 "metadata": {
  "kernelspec": {
   "display_name": "base",
   "language": "python",
   "name": "python3"
  },
  "language_info": {
   "codemirror_mode": {
    "name": "ipython",
    "version": 3
   },
   "file_extension": ".py",
   "mimetype": "text/x-python",
   "name": "python",
   "nbconvert_exporter": "python",
   "pygments_lexer": "ipython3",
   "version": "3.8.13"
  }
 },
 "nbformat": 4,
 "nbformat_minor": 5
}
